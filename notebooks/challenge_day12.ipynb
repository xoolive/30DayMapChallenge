{
 "cells": [
  {
   "cell_type": "code",
   "execution_count": null,
   "id": "0c210092-fdb7-4108-9f7b-61340a7244d9",
   "metadata": {},
   "outputs": [],
   "source": [
    "%load_ext lab_black"
   ]
  },
  {
   "cell_type": "code",
   "execution_count": null,
   "id": "f071da86-4ada-49a9-bcad-3a9d1b65cb94",
   "metadata": {},
   "outputs": [],
   "source": [
    "# https://sql.sh/736-base-donnees-villes-francaises"
   ]
  },
  {
   "cell_type": "code",
   "execution_count": null,
   "id": "378a964f-35d4-491c-8fab-eb3e47bae42f",
   "metadata": {},
   "outputs": [],
   "source": [
    "villes = pd.read_csv(\n",
    "    \"data/villes_france.csv\",\n",
    "    usecols=[5, 8, 10, 16, 19, 20, 25, 26],\n",
    "    names=[\n",
    "        \"nom\",\n",
    "        \"code_postal\",\n",
    "        \"code\",\n",
    "        \"population\",\n",
    "        \"longitude\",\n",
    "        \"latitude\",\n",
    "        \"altitude_min\",\n",
    "        \"altitude_max\",\n",
    "    ],\n",
    "    dtype={\"code_postal\": str, \"code\": str},\n",
    ").query('~code_postal.str.startswith(\"97\")')"
   ]
  },
  {
   "cell_type": "code",
   "execution_count": null,
   "id": "cde2c515-740c-44b2-98b6-29d581c5f4be",
   "metadata": {},
   "outputs": [],
   "source": [
    "import geopandas as gpd\n",
    "\n",
    "github_url = \"https://raw.githubusercontent.com/{user}/{repo}/master/{path}\"\n",
    "\n",
    "departements_fr = gpd.GeoDataFrame.from_file(\n",
    "    github_url.format(\n",
    "        user=\"gregoiredavid\",\n",
    "        repo=\"france-geojson\",\n",
    "        path=\"departements-version-simplifiee.geojson\",\n",
    "    )\n",
    ")\n",
    "\n",
    "communes_fr = gpd.GeoDataFrame.from_file(\n",
    "    github_url.format(\n",
    "        user=\"gregoiredavid\",\n",
    "        repo=\"france-geojson\",\n",
    "        path=\"communes-version-simplifiee.geojson\",\n",
    "    )\n",
    ")\n",
    "\n",
    "com = communes_fr.merge(villes, on=\"code\")\n",
    "\n",
    "alt.data_transformers.disable_max_rows()\n"
   ]
  },
  {
   "cell_type": "code",
   "execution_count": null,
   "id": "3506b75a-291a-4aed-86dd-4157b7f58796",
   "metadata": {},
   "outputs": [],
   "source": [
    "chart = (\n",
    "    alt.hconcat(\n",
    "        alt.layer(\n",
    "            alt.Chart(departements_fr)\n",
    "            .mark_geoshape(fill=\"none\", stroke=\"#bab0ac\", strokeWidth=0.5)\n",
    "            .project(\"conicConformal\", rotate=[-3, -46.5], parallels=[49, 44]),\n",
    "            alt.Chart(villes)\n",
    "            .mark_circle()\n",
    "            .encode(\n",
    "                alt.Latitude(\"latitude\"),\n",
    "                alt.Longitude(\"longitude\"),\n",
    "                alt.Size(\"population\", title=\"Population\"),\n",
    "            ),\n",
    "        ).properties(width=300, height=300),\n",
    "        alt.Chart(com)\n",
    "        .mark_geoshape()\n",
    "        .encode(\n",
    "            alt.Color(\"population\", title=\"Population\", scale=alt.Scale(type=\"symlog\"))\n",
    "        )\n",
    "        .project(\"conicConformal\", rotate=[-3, -46.5], parallels=[49, 44])\n",
    "        .properties(width=300, height=300),\n",
    "    )\n",
    "    .configure_view(stroke=None)\n",
    "    .configure_legend(\n",
    "        orient=\"bottom\",\n",
    "        titleFontSize=14,\n",
    "        labelFontSize=13,\n",
    "        titleFont=\"Fira Sans\",\n",
    "        labelFont=\"Ubuntu\",\n",
    "    )\n",
    ")\n",
    "chart"
   ]
  },
  {
   "cell_type": "code",
   "execution_count": null,
   "id": "de85a28f-de2a-4a1d-9739-a0da51aa6808",
   "metadata": {},
   "outputs": [],
   "source": [
    "chart.save(\"challenge_day12.svg\")"
   ]
  }
 ],
 "metadata": {
  "kernelspec": {
   "display_name": "Python 3",
   "language": "python",
   "name": "python3"
  },
  "language_info": {
   "codemirror_mode": {
    "name": "ipython",
    "version": 3
   },
   "file_extension": ".py",
   "mimetype": "text/x-python",
   "name": "python",
   "nbconvert_exporter": "python",
   "pygments_lexer": "ipython3",
   "version": "3.9.4"
  }
 },
 "nbformat": 4,
 "nbformat_minor": 5
}
