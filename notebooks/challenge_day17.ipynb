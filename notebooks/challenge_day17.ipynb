{
 "cells": [
  {
   "cell_type": "code",
   "execution_count": null,
   "id": "b8b1d7a0-500b-4206-9edb-96d0d392bafd",
   "metadata": {},
   "outputs": [],
   "source": [
    "# http://www.donnees.statistiques.developpement-durable.gouv.fr/donneesCLC/CLC/region/CLC_RALPC_RGF_SHP.zip"
   ]
  },
  {
   "cell_type": "code",
   "execution_count": null,
   "id": "8ede91dc-9353-4758-8b44-7a08de60924f",
   "metadata": {},
   "outputs": [],
   "source": [
    "%load_ext lab_black"
   ]
  },
  {
   "cell_type": "code",
   "execution_count": null,
   "id": "cf2d644c-8660-4de3-a0c1-855f6d738d6a",
   "metadata": {},
   "outputs": [],
   "source": [
    "import pandas as pd\n",
    "\n",
    "clc_legend = pd.read_csv(\"../data/clc_legend.csv\", dtype=str).assign(\n",
    "    RGB=lambda df: \"rgb(\" + df[\"RGB\"].str.split(\"-\").str.join(\", \") + \")\"\n",
    ")"
   ]
  },
  {
   "cell_type": "code",
   "execution_count": null,
   "id": "2bed1554-2146-49a5-b7b1-dda6e56afdf8",
   "metadata": {},
   "outputs": [],
   "source": [
    "from geopandas import GeoDataFrame\n",
    "\n",
    "corine12 = GeoDataFrame.from_file(\n",
    "    \"../data/CLC_RALPC_RGF_SHP/CLC12/CLC12_RALPC_RGF.shp\"\n",
    ")"
   ]
  },
  {
   "cell_type": "code",
   "execution_count": null,
   "id": "ab11c846-4f7c-4e1c-9752-b529cc09e1ef",
   "metadata": {},
   "outputs": [],
   "source": [
    "from cartes.osm import Nominatim, Overpass\n",
    "\n",
    "landes = Nominatim.search(\"Landes\")"
   ]
  },
  {
   "cell_type": "code",
   "execution_count": null,
   "id": "4b8abd7e-7a16-473d-b6b9-a6ccf27d080c",
   "metadata": {},
   "outputs": [],
   "source": [
    "wgs = corine12.set_crs(2154).to_crs(4326)\n",
    "intersection = wgs.intersects(landes.shape)\n",
    "full_data = wgs[intersection].assign(geometry=lambda x: x.intersection(landes.shape))"
   ]
  },
  {
   "cell_type": "code",
   "execution_count": null,
   "id": "46fe0a0f-698e-445f-8534-dc85038bac88",
   "metadata": {},
   "outputs": [],
   "source": [
    "full_data = full_data.merge(clc_legend, left_on=\"CODE_12\", right_on=\"CLC_CODE\")"
   ]
  },
  {
   "cell_type": "code",
   "execution_count": null,
   "id": "8ab57053-70cf-4f4f-93f3-9caf6119b880",
   "metadata": {},
   "outputs": [],
   "source": [
    "\n",
    "towns = Overpass.request(area=\"Landes\", node=dict(place=\"town\"))\n",
    "villages = Overpass.request(area=\"Landes\", node=dict(place=\"village\"))\n",
    "\n",
    "cities = (\n",
    "    pd.concat([towns.data, villages.data])\n",
    "    .query(\"population.notnull()\")\n",
    "    .assign(population=lambda df: df.population.astype(int))\n",
    "    .sort_values(\"population\", ascending=False)[\n",
    "        [\"latitude\", \"longitude\", \"name\", \"population\"]\n",
    "    ]\n",
    ")\n",
    "cities"
   ]
  },
  {
   "cell_type": "code",
   "execution_count": null,
   "id": "37a96a21-7872-402a-8699-2372609f5602",
   "metadata": {},
   "outputs": [],
   "source": [
    "import altair as alt\n",
    "\n",
    "\n",
    "colors = sorted(full_data.CLC_CODE.unique())\n",
    "domain = list(clc_legend.query(\"CLC_CODE in @colors\").LABEL3)\n",
    "range_ = list(clc_legend.query(\"CLC_CODE in @colors\").RGB)\n",
    "\n",
    "alt.data_transformers.disable_max_rows()\n",
    "\n",
    "chart = (\n",
    "    alt.layer(\n",
    "        alt.Chart(full_data)\n",
    "        .mark_geoshape()\n",
    "        .encode(\n",
    "            alt.Color(\n",
    "                \"LABEL3\",\n",
    "                legend=alt.Legend(\n",
    "                    title=\"CORINE Land Cover\", orient=\"bottom\", columns=3\n",
    "                ),\n",
    "                scale=alt.Scale(domain=domain, range=range_),\n",
    "            )\n",
    "        ),\n",
    "        alt.Chart(cities.head(7))\n",
    "        .mark_text(font=\"Fira Sans\", fontSize=14, align=\"left\")\n",
    "        .encode(\n",
    "            alt.Latitude(\"latitude:Q\"), alt.Longitude(\"longitude:Q\"), alt.Text(\"name:N\")\n",
    "        ),\n",
    "    )\n",
    "    .project(\"conicConformal\", rotate=[-3, -46.5], parallels=[49, 44], pointRadius=2)\n",
    "    .properties(\n",
    "        width=400,\n",
    "        height=400,\n",
    "        title=\"Landcover in the Landes departement\",\n",
    "    )\n",
    "    .configure_title(font=\"Fira Sans\", fontSize=18, anchor=\"start\")\n",
    "    .configure_legend(\n",
    "        labelFont=\"Fira Sans\", labelFontSize=13, titleFont=\"Fira Sans\", titleFontSize=15\n",
    "    )\n",
    "    .configure_view(stroke=None)\n",
    ")\n",
    "chart"
   ]
  },
  {
   "cell_type": "code",
   "execution_count": null,
   "id": "ad7eb8e6-2ba7-494a-8a92-3ec55706634c",
   "metadata": {},
   "outputs": [],
   "source": [
    "chart.save(\"../contributions/challenge_day17.svg\")"
   ]
  },
  {
   "cell_type": "code",
   "execution_count": null,
   "id": "dba70430-168f-42fa-940e-6a378a42b773",
   "metadata": {},
   "outputs": [],
   "source": []
  }
 ],
 "metadata": {
  "kernelspec": {
   "display_name": "Python 3",
   "language": "python",
   "name": "python3"
  },
  "language_info": {
   "codemirror_mode": {
    "name": "ipython",
    "version": 3
   },
   "file_extension": ".py",
   "mimetype": "text/x-python",
   "name": "python",
   "nbconvert_exporter": "python",
   "pygments_lexer": "ipython3",
   "version": "3.9.2"
  },
  "widgets": {
   "application/vnd.jupyter.widget-state+json": {
    "state": {},
    "version_major": 2,
    "version_minor": 0
   }
  }
 },
 "nbformat": 4,
 "nbformat_minor": 5
}
