{
 "cells": [
  {
   "cell_type": "code",
   "execution_count": null,
   "id": "2418db45-83c2-40c3-bd59-401dafb2d9ac",
   "metadata": {},
   "outputs": [],
   "source": [
    "%load_ext lab_black"
   ]
  },
  {
   "cell_type": "code",
   "execution_count": null,
   "id": "f86655ca-cdb1-42be-999a-ecd7d9ccd4b1",
   "metadata": {},
   "outputs": [],
   "source": [
    "from geopandas import GeoDataFrame\n",
    "\n",
    "shapefile_path = \"../data/ne_50m_admin_0_breakaway_disputed_areas/ne_50m_admin_0_breakaway_disputed_areas.shp\"\n",
    "df = GeoDataFrame.from_file(shapefile_path)"
   ]
  },
  {
   "cell_type": "code",
   "execution_count": null,
   "id": "088fff26-a6bc-43b2-8f59-711fdc4730f6",
   "metadata": {},
   "outputs": [],
   "source": [
    "import altair as alt\n",
    "from vega_datasets import data\n",
    "\n",
    "# Data generators for the background\n",
    "sphere = alt.sphere()\n",
    "graticule = alt.graticule()\n",
    "\n",
    "# Source of land data\n",
    "source = alt.topo_feature(data.world_110m.url, \"countries\")\n",
    "\n",
    "# Layering and configuring the components\n",
    "chart = (\n",
    "    alt.layer(\n",
    "        alt.Chart(sphere).mark_geoshape(fill=\"#9ecae9\", opacity=0.5),\n",
    "        alt.Chart(graticule).mark_geoshape(stroke=\"white\", strokeWidth=0.5),\n",
    "        alt.Chart(source).mark_geoshape(fill=\"#bab0ac\", stroke=\"white\"),\n",
    "        alt.Chart(df).mark_geoshape(fill=\"#f58518\", stroke=\"white\"),\n",
    "    )\n",
    "    .project(\"orthographic\", rotate=(-40, -30, 0), scale=500)\n",
    "    .properties(\n",
    "        width=800,\n",
    "        height=600,\n",
    "        title=\"Disputed territories and breakways, made with Natural Earth, public domain\",\n",
    "    )\n",
    "    .configure_view(stroke=None)\n",
    "    .configure_title(font=\"Fira Sans\", fontSize=18, orient=\"bottom\", anchor=\"start\")\n",
    ")\n",
    "chart"
   ]
  },
  {
   "cell_type": "code",
   "execution_count": null,
   "id": "dc7a257d-5dc9-49d0-ab61-517e43ec7f20",
   "metadata": {},
   "outputs": [],
   "source": []
  }
 ],
 "metadata": {
  "kernelspec": {
   "display_name": "Python 3",
   "language": "python",
   "name": "python3"
  },
  "language_info": {
   "codemirror_mode": {
    "name": "ipython",
    "version": 3
   },
   "file_extension": ".py",
   "mimetype": "text/x-python",
   "name": "python",
   "nbconvert_exporter": "python",
   "pygments_lexer": "ipython3",
   "version": "3.9.4"
  }
 },
 "nbformat": 4,
 "nbformat_minor": 5
}
