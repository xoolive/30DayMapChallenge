{
 "cells": [
  {
   "cell_type": "code",
   "execution_count": null,
   "id": "96f51b68-cc44-46c0-b1a1-6b09a30f3472",
   "metadata": {},
   "outputs": [],
   "source": [
    "%load_ext lab_black"
   ]
  },
  {
   "cell_type": "code",
   "execution_count": null,
   "id": "0f2eb1bc-e8ab-4e1f-908f-16f5092637c4",
   "metadata": {},
   "outputs": [],
   "source": [
    "import pandas as pd\n",
    "\n",
    "url = \"https://www.data.gouv.fr/fr/datasets/r/bff6e5d3-c8eb-4f85-bf17-fba84b88fa71\"\n",
    "df = pd.read_csv(url, sep=\";\")"
   ]
  },
  {
   "cell_type": "code",
   "execution_count": null,
   "id": "9fecd283-5f3d-40ad-bd67-521a3174eaff",
   "metadata": {},
   "outputs": [],
   "source": [
    "import geopandas as gpd\n",
    "\n",
    "github_url = \"https://raw.githubusercontent.com/{user}/{repo}/master/{path}\"\n",
    "\n",
    "communes_fr = gpd.GeoDataFrame.from_file(\n",
    "    github_url.format(\n",
    "        user=\"gregoiredavid\",\n",
    "        repo=\"france-geojson\",\n",
    "        path=\"communes-version-simplifiee.geojson\",\n",
    "    )\n",
    ")"
   ]
  },
  {
   "cell_type": "code",
   "execution_count": null,
   "id": "83972ec3-f2e6-4780-8466-6bb8549e56d7",
   "metadata": {},
   "outputs": [],
   "source": [
    "complete = (\n",
    "    df.groupby(\"libelle_commune\")\n",
    "    .agg(dict(annee=\"max\"))\n",
    "    .reset_index()\n",
    "    .merge(df, on=[\"libelle_commune\", \"annee\"])\n",
    "    .merge(\n",
    "        communes_fr.query('code.str.startswith(\"2A\") or code.str.startswith(\"2B\")'),\n",
    "        left_on=\"libelle_commune\",\n",
    "        right_on=\"nom\",\n",
    "    )\n",
    ")"
   ]
  },
  {
   "cell_type": "code",
   "execution_count": null,
   "id": "4fd75b5a-9c28-4767-9874-318f7cd506fa",
   "metadata": {},
   "outputs": [],
   "source": [
    "complete.orientation_technico_economique_de_la_commune.unique()"
   ]
  },
  {
   "cell_type": "code",
   "execution_count": null,
   "id": "dfa34a39-9875-4834-b82c-26b6d0035111",
   "metadata": {},
   "outputs": [],
   "source": [
    "complete.loc[\n",
    "    complete.orientation_technico_economique_de_la_commune\n",
    "    == \"Viticulture (appellation et autre)\",\n",
    "    \"orientation_technico_economique_de_la_commune\",\n",
    "] = \"wine\"\n",
    "complete.loc[\n",
    "    complete.orientation_technico_economique_de_la_commune\n",
    "    == \"Fruits et autres cultures permanentes\",\n",
    "    \"orientation_technico_economique_de_la_commune\",\n",
    "] = \"crops\"\n",
    "complete.loc[\n",
    "    complete.orientation_technico_economique_de_la_commune\n",
    "    == \"Cultures générales  (autres grandes cultures)\",\n",
    "    \"orientation_technico_economique_de_la_commune\",\n",
    "] = \"crops\"\n",
    "complete.loc[\n",
    "    complete.orientation_technico_economique_de_la_commune\n",
    "    == \"Fleurs et horticulture diverse\",\n",
    "    \"orientation_technico_economique_de_la_commune\",\n",
    "] = \"crops\"\n",
    "complete.loc[\n",
    "    complete.orientation_technico_economique_de_la_commune == \"Ovins et caprins\",\n",
    "    \"orientation_technico_economique_de_la_commune\",\n",
    "] = \"cattle\"\n",
    "complete.loc[\n",
    "    complete.orientation_technico_economique_de_la_commune == \"Bovins viande\",\n",
    "    \"orientation_technico_economique_de_la_commune\",\n",
    "] = \"cattle\"\n",
    "complete.loc[\n",
    "    complete.orientation_technico_economique_de_la_commune == \"Porcins\",\n",
    "    \"orientation_technico_economique_de_la_commune\",\n",
    "] = \"cattle\"\n",
    "complete.loc[\n",
    "    complete.orientation_technico_economique_de_la_commune == \"Autres herbivores\",\n",
    "    \"orientation_technico_economique_de_la_commune\",\n",
    "] = \"cattle\"\n",
    "complete.loc[\n",
    "    complete.orientation_technico_economique_de_la_commune == \"Granivores mixtes\",\n",
    "    \"orientation_technico_economique_de_la_commune\",\n",
    "] = \"cattle\"\n",
    "complete.loc[\n",
    "    complete.orientation_technico_economique_de_la_commune\n",
    "    == \"Polyculture et polyélevage\",\n",
    "    \"orientation_technico_economique_de_la_commune\",\n",
    "] = \"mixed\"\n",
    "complete.loc[\n",
    "    complete.orientation_technico_economique_de_la_commune.isnull(),\n",
    "    \"orientation_technico_economique_de_la_commune\",\n",
    "] = \"no data\""
   ]
  },
  {
   "cell_type": "code",
   "execution_count": null,
   "id": "7a670eed-c379-4df9-88ed-19e05f98b210",
   "metadata": {},
   "outputs": [],
   "source": [
    "def random_points_in_polygon(poly, num_points):\n",
    "    min_x, min_y, max_x, max_y = poly.bounds\n",
    "\n",
    "    points = []\n",
    "\n",
    "    while len(points) < num_points:\n",
    "        random_point = Point(\n",
    "            [random.uniform(min_x, max_x), random.uniform(min_y, max_y)]\n",
    "        )\n",
    "        if random_point.within(poly):\n",
    "            points.append(random_point)\n",
    "\n",
    "    return MultiPoint(\n",
    "        sum(\n",
    "            (list(p.coords) for p in points),\n",
    "            [],\n",
    "        )\n",
    "    )\n",
    "\n",
    "\n",
    "geo = list(\n",
    "    random_points_in_polygon(elt.geometry, elt.exploitations_agricoles)\n",
    "    for _, elt in complete.iterrows()\n",
    ")"
   ]
  },
  {
   "cell_type": "code",
   "execution_count": null,
   "id": "bf18f302-f680-478b-9bc8-070292dbd112",
   "metadata": {},
   "outputs": [],
   "source": [
    "c"
   ]
  },
  {
   "cell_type": "code",
   "execution_count": null,
   "id": "2bb76129-65e3-4ede-8b3e-1bf52f8c11c3",
   "metadata": {},
   "outputs": [],
   "source": [
    "## Generate the elevation map below"
   ]
  },
  {
   "cell_type": "code",
   "execution_count": null,
   "id": "e43c64c3-7263-4406-922d-f4d8a8e06523",
   "metadata": {},
   "outputs": [],
   "source": [
    "import rasterio\n",
    "from rasterio.plot import show\n",
    "from rasterio.merge import merge\n",
    "\n",
    "directory = Path(\n",
    "    \"/home/xo/Documents/data/SIG/BDALTIV2_2-0_75M_ASC_LAMB93-IGN69_FRANCE_2018-01-15/BDALTIV2/1_DONNEES_LIVRAISON_2018-01-00245/BDALTIV2_MNT_75M_ASC_LAMB93_IGN69_FRANCE/\"\n",
    ")\n",
    "\n",
    "list_ = [\n",
    "    \"BDALTIV2_75M_FXX_1125_6075_MNT_LAMB93_IGN69.asc\",\n",
    "    \"BDALTIV2_75M_FXX_1125_6150_MNT_LAMB93_IGN69.asc\",\n",
    "    \"BDALTIV2_75M_FXX_1125_6225_MNT_LAMB93_IGN69.asc\",\n",
    "    \"BDALTIV2_75M_FXX_1200_6075_MNT_LAMB93_IGN69.asc\",\n",
    "    \"BDALTIV2_75M_FXX_1200_6150_MNT_LAMB93_IGN69.asc\",\n",
    "    \"BDALTIV2_75M_FXX_1200_6225_MNT_LAMB93_IGN69.asc\",\n",
    "    \"BDALTIV2_75M_FXX_1200_6300_MNT_LAMB93_IGN69.asc\",\n",
    "]\n",
    "\n",
    "\n",
    "sources = list(rasterio.open(directory / filename) for filename in list_)\n",
    "dest_array, out_transform = merge(sources)\n",
    "# dest_array[dest_array == -99999.0] = 0"
   ]
  },
  {
   "cell_type": "code",
   "execution_count": null,
   "id": "01867de3-a87d-4bbc-9bb6-4635a30b79fe",
   "metadata": {},
   "outputs": [],
   "source": [
    "xmin, ymax = out_transform.xoff, out_transform.yoff\n",
    "resolution = 75\n",
    "xmax = xmin + dest_array.shape[2] * resolution\n",
    "ymin = ymax - dest_array.shape[1] * resolution\n",
    "\n",
    "x = np.linspace(xmin, xmax, dest_array.shape[2])\n",
    "y = np.linspace(ymin, ymax, dest_array.shape[1])"
   ]
  },
  {
   "cell_type": "code",
   "execution_count": null,
   "id": "649b4f9b-a99d-4db0-96f4-6d81a6fc17dd",
   "metadata": {},
   "outputs": [],
   "source": [
    "from cartes.crs import Lambert93, PlateCarree\n",
    "\n",
    "fig, ax = plt.subplots(figsize=(5, 10), subplot_kw=dict(projection=Lambert93()))\n",
    "ret = ax.contour(\n",
    "    x,\n",
    "    y,\n",
    "    dest_array[0][::-1, :],\n",
    "    levels=(0, 500, 1000, 1500, 2500, 3000),\n",
    "    cmap=\"Greys\",\n",
    ")"
   ]
  },
  {
   "cell_type": "code",
   "execution_count": null,
   "id": "629f2f2f-1430-4f10-abba-805c4a001ce3",
   "metadata": {},
   "outputs": [],
   "source": [
    "from shapely.geometry import LineString, MultiLineString\n",
    "\n",
    "contours = {\n",
    "    \"geometry\": list(\n",
    "        MultiLineString(list(s for s in segs if s.shape[0] > 2)).simplify(1e3)\n",
    "        for segs in ret.allsegs\n",
    "    ),\n",
    "    \"level\": list(ret.levels),\n",
    "}\n",
    "c = GeoDataFrame.from_dict(contours)"
   ]
  },
  {
   "cell_type": "code",
   "execution_count": null,
   "id": "a2b2bda7-f972-448a-b81f-de3a15dc0add",
   "metadata": {},
   "outputs": [],
   "source": [
    "chart = (\n",
    "    alt.hconcat(\n",
    "        alt.Chart(c.set_crs(2154).to_crs(4326))\n",
    "        .mark_geoshape(opacity=0.3)\n",
    "        .encode(alt.Color(\"level:Q\", legend=None, scale=alt.Scale(scheme=\"browns\")))\n",
    "        .properties(\n",
    "            width=200,\n",
    "            height=500,\n",
    "            title=\"Elevation from IGN BD ALTI®\",\n",
    "        )\n",
    "        .project(\n",
    "            \"conicConformal\", rotate=[-3, -46.5], parallels=[49, 44], pointRadius=2\n",
    "        ),\n",
    "        alt.Chart(GeoDataFrame(complete.assign(geometry=geo)))\n",
    "        .mark_geoshape(opacity=0.8)\n",
    "        .encode(\n",
    "            alt.Color(\n",
    "                \"orientation_technico_economique_de_la_commune\",\n",
    "                legend=alt.Legend(title=\"\", orient=\"bottom\"),\n",
    "                # title=\"\",\n",
    "                scale=alt.Scale(\n",
    "                    domain=[\"cattle\", \"crops\", \"mixed\", \"wine\"],\n",
    "                    range=[\"#c79353\", \"#767528\", \"#95815c\", \"#522f60\"],\n",
    "                ),\n",
    "            ),\n",
    "            alt.Tooltip(\"libelle_commune\"),\n",
    "        )\n",
    "        .project(\n",
    "            \"conicConformal\", rotate=[-3, -46.5], parallels=[49, 44], pointRadius=2\n",
    "        )\n",
    "        .properties(\n",
    "            width=200,\n",
    "            height=500,\n",
    "            title=\"and agriculture in Corsica\",\n",
    "        ),\n",
    "    )\n",
    "    .configure_title(font=\"Fira Sans\", fontSize=18, anchor=\"start\")\n",
    "    .configure_legend(labelFont=\"Fira Sans\", labelFontSize=13)\n",
    "    .configure_view(stroke=None)\n",
    ")\n",
    "chart"
   ]
  },
  {
   "cell_type": "code",
   "execution_count": null,
   "id": "b10ce814-c38e-47c9-b380-ba358589cd40",
   "metadata": {},
   "outputs": [],
   "source": [
    "chart.save(\"../contributions/challenge_day16.svg\")"
   ]
  }
 ],
 "metadata": {
  "kernelspec": {
   "display_name": "Python 3",
   "language": "python",
   "name": "python3"
  },
  "language_info": {
   "codemirror_mode": {
    "name": "ipython",
    "version": 3
   },
   "file_extension": ".py",
   "mimetype": "text/x-python",
   "name": "python",
   "nbconvert_exporter": "python",
   "pygments_lexer": "ipython3",
   "version": "3.9.2"
  },
  "widgets": {
   "application/vnd.jupyter.widget-state+json": {
    "state": {},
    "version_major": 2,
    "version_minor": 0
   }
  }
 },
 "nbformat": 4,
 "nbformat_minor": 5
}
