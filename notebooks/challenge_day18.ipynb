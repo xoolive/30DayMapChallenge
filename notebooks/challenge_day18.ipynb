{
 "cells": [
  {
   "cell_type": "code",
   "execution_count": null,
   "id": "4255ac11-e6a8-468c-8004-b0c09db0ae8e",
   "metadata": {},
   "outputs": [],
   "source": [
    "%load_ext lab_black"
   ]
  },
  {
   "cell_type": "code",
   "execution_count": null,
   "id": "4f45eac6-9b67-45d9-be03-410aab274cb3",
   "metadata": {},
   "outputs": [],
   "source": [
    "from cartes.osm import Nominatim\n",
    "\n",
    "t = Nominatim.search(\"Tristan da Cunha\")\n",
    "lat, lon = float(t.lat), float(t.lon)\n",
    "t"
   ]
  },
  {
   "cell_type": "code",
   "execution_count": null,
   "id": "7b283769-ee69-4fae-8bc9-1a2282740fbf",
   "metadata": {},
   "outputs": [],
   "source": [
    "import cartopy.io.shapereader as shpreader\n",
    "from geopandas import GeoDataFrame\n",
    "\n",
    "\n",
    "countries_110 = GeoDataFrame.from_file(\n",
    "    shpreader.natural_earth(\n",
    "        resolution=\"110m\",\n",
    "        category=\"cultural\",\n",
    "        name=\"admin_0_countries\",\n",
    "    )\n",
    ")\n",
    "countries_50 = GeoDataFrame.from_file(\n",
    "    shpreader.natural_earth(\n",
    "        resolution=\"50m\",\n",
    "        category=\"cultural\",\n",
    "        name=\"admin_0_countries\",\n",
    "    )\n",
    ")\n",
    "countries_10 = GeoDataFrame.from_file(\n",
    "    shpreader.natural_earth(\n",
    "        resolution=\"10m\",\n",
    "        category=\"cultural\",\n",
    "        name=\"admin_0_countries\",\n",
    "    )\n",
    ")"
   ]
  },
  {
   "cell_type": "code",
   "execution_count": null,
   "id": "c43aa904-5a15-4e44-ace8-fd8f60c2bacd",
   "metadata": {},
   "outputs": [],
   "source": [
    "from pyproj import Geod\n",
    "from shapely.geometry import Polygon\n",
    "\n",
    "geod = Geod(ellps=\"WGS84\")\n",
    "\n",
    "\n",
    "def intersects(g, distance, lat=lat, lon=lon):\n",
    "    lon_, lat_, back_ = geod.fwd(\n",
    "        lon * np.ones(360),\n",
    "        lat * np.ones(360),\n",
    "        np.arange(0, 360),\n",
    "        distance * np.ones(360),\n",
    "    )\n",
    "    p = Polygon(list(zip(lon_, lat_)))\n",
    "    a = g.intersects(p)\n",
    "\n",
    "    return any(a), p"
   ]
  },
  {
   "cell_type": "code",
   "execution_count": null,
   "id": "334b4a52-393e-4eb6-86c6-d05918bce499",
   "metadata": {},
   "outputs": [],
   "source": [
    "def closest_country(g):\n",
    "\n",
    "    res = list([*intersects(g, x), x] for x in np.linspace(0, 5000e3, 1001))\n",
    "    polygon, distance = next(\n",
    "        (polygon, distance) for test, polygon, distance in res if test\n",
    "    )\n",
    "\n",
    "    a = g.intersects(polygon)\n",
    "    df = g.loc[a]\n",
    "    return dict(\n",
    "        geometry=polygon,\n",
    "        distance=distance,\n",
    "        intersection=df.assign(\n",
    "            longitude=df.geometry.centroid.x,\n",
    "            latitude=df.geometry.centroid.y,\n",
    "        ),\n",
    "    )"
   ]
  },
  {
   "cell_type": "code",
   "execution_count": null,
   "id": "6102538e-561f-4ce4-a170-029e95ae139f",
   "metadata": {},
   "outputs": [],
   "source": [
    "closest_110 = closest_country(countries_110.query('NAME != \"Saint Helena\"'))\n",
    "closest_50 = closest_country(countries_50.query('NAME != \"Saint Helena\"'))\n",
    "closest_10 = closest_country(countries_10.query('NAME != \"Saint Helena\"'))"
   ]
  },
  {
   "cell_type": "code",
   "execution_count": null,
   "id": "b728d541-aef9-4c48-a98f-207dba35fc97",
   "metadata": {},
   "outputs": [],
   "source": [
    "closest_50[\"intersection\"] = closest_50[\"intersection\"].assign(NAME=\"South Georgia\")\n",
    "\n",
    "closest_10[\"intersection\"] = (\n",
    "    closest_10[\"intersection\"]\n",
    "    .assign(\n",
    "        geometry=closest_10[\"intersection\"].intersection(closest_10[\"geometry\"]),\n",
    "        NAME=\"Bouvetøya (N)\",\n",
    "    )\n",
    "    .assign(\n",
    "        longitude=lambda df: df.geometry.centroid.x,\n",
    "        latitude=lambda df: df.geometry.centroid.y,\n",
    "    )\n",
    ")"
   ]
  },
  {
   "cell_type": "code",
   "execution_count": null,
   "id": "b8325faf-97b0-4298-85ac-c1a77b1368b6",
   "metadata": {},
   "outputs": [],
   "source": [
    "import altair as alt\n",
    "\n",
    "closest = GeoDataFrame.from_records([closest_110, closest_50, closest_10]).assign(\n",
    "    distance=lambda df: (df[\"distance\"] * 1e-3).astype(int)\n",
    ")\n",
    "\n",
    "text_data = alt.Chart(\n",
    "    pd.DataFrame.from_records([dict(latitude=lat, longitude=lon, name=t.display_name)])\n",
    ").encode(alt.Latitude(\"latitude\"), alt.Longitude(\"longitude\"), alt.Text(\"name\"))\n",
    "\n",
    "neighbours = alt.Chart(\n",
    "    pd.concat(list(closest[\"intersection\"])).assign(\n",
    "        distance=[\n",
    "            int(closest_110[\"distance\"] * 1e-3),\n",
    "            int(closest_50[\"distance\"] * 1e-3),\n",
    "            int(closest_10[\"distance\"] * 1e-3),\n",
    "        ]\n",
    "    )\n",
    ").encode(\n",
    "    alt.Latitude(\"latitude\"),\n",
    "    alt.Longitude(\"longitude\"),\n",
    "    alt.Text(\"NAME\"),\n",
    ")\n",
    "\n",
    "\n",
    "chart = (\n",
    "    alt.layer(\n",
    "        alt.Chart(alt.sphere()).mark_geoshape(\n",
    "            stroke=\"#bab0ac\", fill=\"#9ecae9\", opacity=0.4\n",
    "        ),\n",
    "        alt.Chart(g).mark_geoshape(stroke=\"#fff\", fill=\"#bab0ac\", opacity=0.6),\n",
    "        alt.Chart(closest.drop(columns=[\"intersection\"]))\n",
    "        .mark_geoshape(fill=\"rgb(0, 0, 0, 0)\", strokeWidth=1)\n",
    "        .encode(alt.Stroke(\"distance:N\", title=\"Distances (in km)\")),\n",
    "        text_data.mark_circle(color=\"black\"),\n",
    "        neighbours.mark_text(dy=15),\n",
    "        neighbours.mark_circle(size=50)\n",
    "        .encode(alt.Color(\"distance:N\", legend=None))\n",
    "        .transform_filter(\"datum.NAME != 'South Africa'\"),\n",
    "    )\n",
    "    .project(\"orthographic\", rotate=(-lon, -lat))\n",
    "    .configure_text(font=\"Fira Sans\", fontSize=12)\n",
    "    .properties(\n",
    "        width=400,\n",
    "        height=400,\n",
    "        title=\"Tristan da Cunha\",\n",
    "    )\n",
    "    .configure_title(font=\"Fira Sans\", fontSize=18, anchor=\"start\")\n",
    "    .configure_legend(\n",
    "        labelFont=\"Fira Sans\",\n",
    "        labelFontSize=13,\n",
    "        titleFont=\"Fira Sans\",\n",
    "        titleFontSize=15,\n",
    "        orient=\"bottom\",\n",
    "    )\n",
    "    .configure_view(stroke=None)\n",
    ")\n",
    "chart"
   ]
  },
  {
   "cell_type": "code",
   "execution_count": null,
   "id": "6be5fed7-78a7-4593-b0f2-bddf67683d7c",
   "metadata": {},
   "outputs": [],
   "source": [
    "chart.save(\"../contributions/challenge_day18.svg\")"
   ]
  },
  {
   "cell_type": "code",
   "execution_count": null,
   "id": "5778a87c-ee0a-4898-b46b-4d124a26b21a",
   "metadata": {},
   "outputs": [],
   "source": []
  }
 ],
 "metadata": {
  "kernelspec": {
   "display_name": "Python 3",
   "language": "python",
   "name": "python3"
  },
  "language_info": {
   "codemirror_mode": {
    "name": "ipython",
    "version": 3
   },
   "file_extension": ".py",
   "mimetype": "text/x-python",
   "name": "python",
   "nbconvert_exporter": "python",
   "pygments_lexer": "ipython3",
   "version": "3.9.4"
  },
  "widgets": {
   "application/vnd.jupyter.widget-state+json": {
    "state": {},
    "version_major": 2,
    "version_minor": 0
   }
  }
 },
 "nbformat": 4,
 "nbformat_minor": 5
}
