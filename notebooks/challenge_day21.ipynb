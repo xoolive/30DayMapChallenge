{
 "cells": [
  {
   "cell_type": "code",
   "execution_count": null,
   "id": "e68cc627-c3a5-4a05-ba49-b5a35a6ce2b0",
   "metadata": {},
   "outputs": [],
   "source": [
    "!wget http://srtm.csi.cgiar.org/wp-content/uploads/files/srtm_5x5/TIFF/srtm_64_05.zip"
   ]
  },
  {
   "cell_type": "code",
   "execution_count": null,
   "id": "be0d8500-514a-4c64-b0af-220f2cffceb0",
   "metadata": {},
   "outputs": [],
   "source": [
    "!wget http://srtm.csi.cgiar.org/wp-content/uploads/files/srtm_5x5/TIFF/srtm_64_06.zip"
   ]
  },
  {
   "cell_type": "code",
   "execution_count": null,
   "id": "02f8350a-69c3-4e80-932f-205c9e977d5e",
   "metadata": {},
   "outputs": [],
   "source": [
    "!wget http://srtm.csi.cgiar.org/wp-content/uploads/files/srtm_5x5/TIFF/srtm_65_05.zip"
   ]
  },
  {
   "cell_type": "code",
   "execution_count": null,
   "id": "eb9f28be-7ac8-4045-ac64-ac85aa96aaf6",
   "metadata": {},
   "outputs": [],
   "source": [
    "%load_ext lab_black"
   ]
  },
  {
   "cell_type": "code",
   "execution_count": null,
   "id": "47b67315-81db-4d6e-bdb4-a16a8db3fa42",
   "metadata": {},
   "outputs": [],
   "source": [
    "from rasterio.merge import merge\n",
    "\n",
    "directory = Path(\"../data/\")\n",
    "\n",
    "list_ = [\n",
    "    \"srtm_64_05/srtm_64_05.tif\",\n",
    "    \"srtm_64_06/srtm_64_06.tif\",\n",
    "    \"srtm_65_05/srtm_65_05.tif\",\n",
    "]\n",
    "\n",
    "sources = list(rasterio.open(directory / filename) for filename in list_)\n",
    "dest_array, out_transform = merge(sources)"
   ]
  },
  {
   "cell_type": "code",
   "execution_count": null,
   "id": "fb928006-4ba8-4c13-8fb4-b72d63ea51fc",
   "metadata": {},
   "outputs": [],
   "source": [
    "out_meta = sources[0].meta\n",
    "out_meta.update(\n",
    "    {\n",
    "        \"driver\": \"GTiff\",\n",
    "        \"height\": dest_array.shape[1],\n",
    "        \"width\": dest_array.shape[2],\n",
    "        \"transform\": out_transform,\n",
    "    }\n",
    ")\n",
    "\n",
    "with rasterio.open(\"merged.tif\", \"w\", **out_meta) as dest:\n",
    "    dest.write(dest_array)"
   ]
  },
  {
   "cell_type": "code",
   "execution_count": null,
   "id": "67bd8556-178f-4780-a902-ad221d5f9b6f",
   "metadata": {},
   "outputs": [],
   "source": [
    "merged = rasterio.open(\"merged.tif\")"
   ]
  },
  {
   "cell_type": "code",
   "execution_count": null,
   "id": "d5926746-a85a-4365-8947-fb53b22f9034",
   "metadata": {},
   "outputs": [],
   "source": [
    "show(merged)"
   ]
  },
  {
   "cell_type": "code",
   "execution_count": null,
   "id": "5aa25f92-802b-48cd-9961-f7fd546b436d",
   "metadata": {},
   "outputs": [],
   "source": [
    "from shapely.geometry import box\n",
    "\n",
    "shape = box(137.5, 34.5, 140.5, 37)\n",
    "\n",
    "out_image, out_transform = rasterio.mask.mask(merged, [shape], crop=True)\n",
    "\n",
    "out_meta = merged.meta\n",
    "out_meta.update(\n",
    "    {\n",
    "        \"driver\": \"GTiff\",\n",
    "        \"height\": out_image.shape[1],\n",
    "        \"width\": out_image.shape[2],\n",
    "        \"transform\": out_transform,\n",
    "    }\n",
    ")\n",
    "\n",
    "with rasterio.open(\"cropped.tif\", \"w\", **out_meta) as dest:\n",
    "    dest.write(out_image)"
   ]
  },
  {
   "cell_type": "code",
   "execution_count": null,
   "id": "8c9e64a5-02fa-4acc-8c8e-d0e11a6db2d7",
   "metadata": {},
   "outputs": [],
   "source": [
    "cropped = rasterio.open(\"cropped.tif\")"
   ]
  },
  {
   "cell_type": "code",
   "execution_count": null,
   "id": "ce3fd464-48b7-487e-9ec2-339eb2249aa8",
   "metadata": {},
   "outputs": [],
   "source": [
    "show(cropped)"
   ]
  },
  {
   "cell_type": "code",
   "execution_count": null,
   "id": "262ed048-f2a4-4997-9b3f-bf59b8798da0",
   "metadata": {},
   "outputs": [],
   "source": [
    "import rasterio\n",
    "from rasterio.plot import show\n",
    "\n",
    "elevation = rasterio.open(\"cropped.tif\")"
   ]
  },
  {
   "cell_type": "code",
   "execution_count": null,
   "id": "1c96c95e-88aa-4b56-bb7e-aa59dea96fe2",
   "metadata": {},
   "outputs": [],
   "source": [
    "import matplotlib.pyplot as plt\n",
    "\n",
    "from cartes.crs import PlateCarree, EPSG_6674\n",
    "from cartes.utils.features import countries\n",
    "from matplotlib.colors import LinearSegmentedColormap\n",
    "\n",
    "cmap = LinearSegmentedColormap.from_list(\"mycmap\", [\"#fffcfb\", \"#70615a\"])\n",
    "\n",
    "\n",
    "class Custom(EPSG_6674):\n",
    "    bbox = {\n",
    "        \"east_longitude\": 151,\n",
    "        \"north_latitude\": 47,\n",
    "        \"south_latitude\": 25,\n",
    "        \"west_longitude\": 124,\n",
    "    }\n",
    "\n",
    "\n",
    "fig, ax = plt.subplots(\n",
    "    figsize=(10, 10),\n",
    "    # dpi=300,\n",
    "    subplot_kw=dict(projection=Custom()),\n",
    ")\n",
    "# show(elevation, ax=ax, cmap=cmap)\n",
    "ax.add_feature(countries(scale=\"50m\"))\n",
    "ax.set_extent((137.5, 140.5, 34.5, 37))\n",
    "ax.spines[\"geo\"].set_visible(False)"
   ]
  },
  {
   "cell_type": "code",
   "execution_count": null,
   "id": "13859b23-fa7d-4172-a417-12820124314e",
   "metadata": {},
   "outputs": [],
   "source": [
    "import rasterio\n",
    "from rasterio.warp import calculate_default_transform, reproject, Resampling\n",
    "\n",
    "dst_crs = \"EPSG:6674\"\n",
    "\n",
    "with rasterio.open(\"merged.tif\") as src:\n",
    "    transform, width, height = calculate_default_transform(\n",
    "        src.crs, dst_crs, src.width, src.height, *src.bounds\n",
    "    )\n",
    "    kwargs = src.meta.copy()\n",
    "    kwargs.update(\n",
    "        {\"crs\": dst_crs, \"transform\": transform, \"width\": width, \"height\": height}\n",
    "    )\n",
    "\n",
    "    with rasterio.open(\"transformed.tif\", \"w\", **kwargs) as dst:\n",
    "        for i in range(1, src.count + 1):\n",
    "            reproject(\n",
    "                source=rasterio.band(src, i),\n",
    "                destination=rasterio.band(dst, i),\n",
    "                src_transform=src.transform,\n",
    "                src_crs=src.crs,\n",
    "                dst_transform=transform,\n",
    "                dst_crs=dst_crs,\n",
    "                resampling=Resampling.cubic_spline,\n",
    "            )"
   ]
  },
  {
   "cell_type": "code",
   "execution_count": null,
   "id": "61cbd718-1dca-4341-919c-ff015d910288",
   "metadata": {},
   "outputs": [],
   "source": [
    "transformed = rasterio.open(\"transformed.tif\")"
   ]
  },
  {
   "cell_type": "code",
   "execution_count": null,
   "id": "f1a6f802-ca2f-4bf7-a1e1-55451a07a5c9",
   "metadata": {},
   "outputs": [],
   "source": [
    "from shapely.geometry import box\n",
    "\n",
    "shape = box(150000, -160000, 400000, 100000)\n",
    "\n",
    "out_image, out_transform = rasterio.mask.mask(transformed, [shape], crop=True)\n",
    "\n",
    "out_meta = merged.meta\n",
    "out_meta.update(\n",
    "    {\n",
    "        \"driver\": \"GTiff\",\n",
    "        \"height\": out_image.shape[1],\n",
    "        \"width\": out_image.shape[2],\n",
    "        \"transform\": out_transform,\n",
    "    }\n",
    ")\n",
    "\n",
    "with rasterio.open(\"cropped.tif\", \"w\", **out_meta) as dest:\n",
    "    dest.write(out_image)"
   ]
  },
  {
   "cell_type": "code",
   "execution_count": null,
   "id": "6d0f6ded-c333-45fa-8289-b3c4c2635064",
   "metadata": {},
   "outputs": [],
   "source": [
    "f = rasterio.open(\"cropped.tif\")\n",
    "show(f)"
   ]
  },
  {
   "cell_type": "code",
   "execution_count": null,
   "id": "aa669a25-8270-4192-8da9-0a800cd32473",
   "metadata": {},
   "outputs": [],
   "source": [
    "elevation = f.read(1)"
   ]
  },
  {
   "cell_type": "code",
   "execution_count": null,
   "id": "4223160a-2423-4c97-9d8c-1e27180c0a83",
   "metadata": {},
   "outputs": [],
   "source": [
    "import earthpy.plot as ep\n",
    "import earthpy.spatial as es\n",
    "\n",
    "hillshade = es.hillshade(elevation, azimuth=150, altitude=50)"
   ]
  },
  {
   "cell_type": "code",
   "execution_count": null,
   "id": "e9d40336-a6a3-4b28-bab1-ca0907cb5c66",
   "metadata": {},
   "outputs": [],
   "source": [
    "import matplotlib.pyplot as plt\n",
    "\n",
    "fig, ax = plt.subplots(\n",
    "    figsize=(10, 10), subplot_kw=dict(projection=Custom())\n",
    ")\n",
    "ep.plot_bands(hillshade, ax=ax, cbar=False)\n",
    "ax.spines[\"geo\"].set_visible(False)\n"
   ]
  },
  {
   "cell_type": "code",
   "execution_count": null,
   "id": "cd4a2ee2-a3a5-451c-a419-65d864ea6536",
   "metadata": {},
   "outputs": [],
   "source": [
    "import matplotlib.pyplot as plt\n",
    "\n",
    "fig, ax = plt.subplots(figsize=(10, 10), subplot_kw=dict(projection=Custom()))\n",
    "ep.plot_bands(hillshade, ax=ax, cbar=False)\n",
    "ax.spines[\"geo\"].set_visible(False)"
   ]
  },
  {
   "cell_type": "code",
   "execution_count": null,
   "id": "b4ae4390-0aa1-4511-8ec6-a43b788a4a3b",
   "metadata": {},
   "outputs": [],
   "source": [
    "fig, ax = plt.subplots(figsize=(10, 10), dpi=300)\n",
    "\n",
    "ep.plot_bands(elevation, ax=ax, cmap=\"terrain\", cbar=False, vmin=0)\n",
    "ep.plot_bands(hillshade, ax=ax, alpha=0.7, cbar=False)\n",
    "\n",
    "for sp in ax.spines.values():\n",
    "    sp.set_visible(False)\n",
    "\n",
    "fig.tight_layout()\n",
    "fig.savefig(\"../contributions/challenge_day21.png\")"
   ]
  },
  {
   "cell_type": "code",
   "execution_count": null,
   "id": "87666b5d-c78e-484e-be61-2b1114200008",
   "metadata": {},
   "outputs": [],
   "source": []
  },
  {
   "cell_type": "code",
   "execution_count": null,
   "id": "b26df58c-e07e-465d-8b0b-9fcc0a2ea22c",
   "metadata": {},
   "outputs": [],
   "source": []
  }
 ],
 "metadata": {
  "kernelspec": {
   "display_name": "Python 3",
   "language": "python",
   "name": "python3"
  },
  "language_info": {
   "codemirror_mode": {
    "name": "ipython",
    "version": 3
   },
   "file_extension": ".py",
   "mimetype": "text/x-python",
   "name": "python",
   "nbconvert_exporter": "python",
   "pygments_lexer": "ipython3",
   "version": "3.9.4"
  },
  "widgets": {
   "application/vnd.jupyter.widget-state+json": {
    "state": {},
    "version_major": 2,
    "version_minor": 0
   }
  }
 },
 "nbformat": 4,
 "nbformat_minor": 5
}
