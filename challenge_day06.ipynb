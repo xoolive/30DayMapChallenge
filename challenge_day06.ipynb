{
 "cells": [
  {
   "cell_type": "code",
   "execution_count": null,
   "id": "8cf70f47-ca6f-4a00-8233-5122c419193c",
   "metadata": {},
   "outputs": [],
   "source": [
    "%load_ext lab_black"
   ]
  },
  {
   "cell_type": "code",
   "execution_count": null,
   "id": "57026308-e1c0-48e6-93fe-fc978c47a87e",
   "metadata": {},
   "outputs": [],
   "source": [
    "from cartes.osm import Overpass\n",
    "import logging\n",
    "\n",
    "# logging.getLogger().setLevel(logging.INFO)"
   ]
  },
  {
   "cell_type": "code",
   "execution_count": null,
   "id": "7092bb32-5994-4100-9ecf-b6d2826548e8",
   "metadata": {},
   "outputs": [],
   "source": [
    "from tqdm.autonotebook import tqdm"
   ]
  },
  {
   "cell_type": "code",
   "execution_count": null,
   "id": "5b9f91d0-460f-43be-8531-7a1223ac768c",
   "metadata": {},
   "outputs": [],
   "source": [
    "data_list = list(\n",
    "    Overpass.request(area=area, node=dict(highway=\"traffic_signals\"))\n",
    "    for area in tqdm(\n",
    "        [\n",
    "            \"Ile de France\",\n",
    "            \"Hauts de France\",\n",
    "            \"Grand Est\",\n",
    "            \"Bourgogne Franche Comté\",\n",
    "            \"Auvergne Rhone Alpes\",\n",
    "            \"Provence Alpes Cote d'Azur\",\n",
    "            \"Occitanie\",\n",
    "            \"Nouvelle Aquitaine\",\n",
    "            \"Centre Val de Loire\",\n",
    "            \"Pays de la Loire\",\n",
    "            \"Normandie\",\n",
    "            \"Bretagne\",\n",
    "            \"Corse\",\n",
    "        ]\n",
    "    )\n",
    ")"
   ]
  },
  {
   "cell_type": "code",
   "execution_count": null,
   "id": "60694c5d-b293-4ade-9bab-fff0c670c95b",
   "metadata": {},
   "outputs": [],
   "source": [
    "from geopandas import GeoDataFrame\n",
    "import pandas as pd\n",
    "\n",
    "red = GeoDataFrame(pd.concat(d.data for d in data_list))"
   ]
  },
  {
   "cell_type": "code",
   "execution_count": null,
   "id": "7bb5206b-cd6d-4691-b7cf-d3fd5efc5d0f",
   "metadata": {},
   "outputs": [],
   "source": [
    "red"
   ]
  },
  {
   "cell_type": "code",
   "execution_count": null,
   "id": "a4c01fb4-c321-4e25-851f-851a2ff3ce3b",
   "metadata": {},
   "outputs": [],
   "source": [
    "import altair as alt\n",
    "\n",
    "\n",
    "alt.data_transformers.disable_max_rows()\n",
    "\n",
    "github_url = \"https://raw.githubusercontent.com/{user}/{repo}/master/{path}\"\n",
    "\n",
    "regions_fr = GeoDataFrame.from_file(\n",
    "    github_url.format(\n",
    "        user=\"gregoiredavid\",\n",
    "        repo=\"france-geojson\",\n",
    "        path=\"regions-version-simplifiee.geojson\",\n",
    "    )\n",
    ")\n",
    "\n",
    "alt.layer(\n",
    "    alt.Chart(regions_fr).mark_geoshape(stroke=\"#bb1e10\", fill=\"None\", strokeWidth=0.2),\n",
    "    alt.Chart(red)\n",
    "    .mark_circle(color=\"#bb1e10\", size=10, opacity=0.3)\n",
    "    .encode(alt.Latitude(\"latitude\"), alt.Longitude(\"longitude\")),\n",
    ").project(\"conicConformal\", rotate=[-3, -46.5], parallels=[49, 44]).properties(\n",
    "    width=500,\n",
    "    height=500,\n",
    "    title=\"Feux tricolores, source OpenStreetMap\",\n",
    ").configure_title(\n",
    "    font=\"Fira Sans\", fontSize=16, anchor=\"start\"\n",
    ").configure_view(\n",
    "    opacity=0\n",
    ")"
   ]
  },
  {
   "cell_type": "code",
   "execution_count": null,
   "id": "d97a6319-2bb4-4558-8852-e63ef4a98500",
   "metadata": {},
   "outputs": [],
   "source": []
  }
 ],
 "metadata": {
  "kernelspec": {
   "display_name": "Python 3",
   "language": "python",
   "name": "python3"
  },
  "language_info": {
   "codemirror_mode": {
    "name": "ipython",
    "version": 3
   },
   "file_extension": ".py",
   "mimetype": "text/x-python",
   "name": "python",
   "nbconvert_exporter": "python",
   "pygments_lexer": "ipython3",
   "version": "3.9.4"
  },
  "widgets": {
   "application/vnd.jupyter.widget-state+json": {
    "state": {},
    "version_major": 2,
    "version_minor": 0
   }
  }
 },
 "nbformat": 4,
 "nbformat_minor": 5
}
